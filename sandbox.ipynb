{
 "cells": [
  {
   "cell_type": "code",
   "execution_count": 1,
   "id": "a4a76bd6",
   "metadata": {},
   "outputs": [],
   "source": [
    "import keras\n",
    "import keras.layers as lay\n",
    "import matplotlib.pyplot as plt\n",
    "import tensorflow as tf\n",
    "import numpy as np\n",
    "from src.model import Generator\n",
    "from src.model import Discriminator"
   ]
  },
  {
   "cell_type": "code",
   "execution_count": 2,
   "id": "7cb76371",
   "metadata": {},
   "outputs": [],
   "source": [
    "gen = Generator(name='Generator')\n",
    "dis = Discriminator(name='Discriminator')\n",
    "# dis.summary()\n",
    "# gen.summary()"
   ]
  },
  {
   "cell_type": "code",
   "execution_count": 52,
   "id": "6cc963d2",
   "metadata": {},
   "outputs": [
    {
     "name": "stdout",
     "output_type": "stream",
     "text": [
      "[[0.50313294]]\n"
     ]
    }
   ],
   "source": [
    "dis.stage.assign(1)\n",
    "label = dis(tf.random.normal((1,8,8,3))).numpy()\n",
    "print(label)"
   ]
  }
 ],
 "metadata": {
  "kernelspec": {
   "display_name": "venv311",
   "language": "python",
   "name": "python3"
  },
  "language_info": {
   "codemirror_mode": {
    "name": "ipython",
    "version": 3
   },
   "file_extension": ".py",
   "mimetype": "text/x-python",
   "name": "python",
   "nbconvert_exporter": "python",
   "pygments_lexer": "ipython3",
   "version": "3.11.12"
  }
 },
 "nbformat": 4,
 "nbformat_minor": 5
}

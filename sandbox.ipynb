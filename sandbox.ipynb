{
 "cells": [
  {
   "cell_type": "code",
   "execution_count": null,
   "id": "a4a76bd6",
   "metadata": {},
   "outputs": [],
   "source": [
    "import os\n",
    "os.environ['CUDA_VISIBLE_DEVICES'] = \"1\"\n",
    "os.environ['KERAS_BACKEND'] = \"tensorflow\"\n",
    "import keras\n",
    "import keras.layers as lay\n",
    "import matplotlib.pyplot as plt\n",
    "import tensorflow as tf\n",
    "import numpy as np\n",
    "from src.generator import Generator\n",
    "from src.discriminator import Discriminator\n",
    "from src.aux_fn import train_step"
   ]
  },
  {
   "cell_type": "code",
   "execution_count": null,
   "id": "9ebb881f",
   "metadata": {},
   "outputs": [],
   "source": [
    "(trainx,trainy),(_,_) = keras.datasets.cifar10.load_data()\n",
    "trainx = trainx[trainy[:,0]==1]\n",
    "trainx = (tf.cast(trainx,tf.float32)-127.5)/127.5\n",
    "data4 = tf.data.Dataset.from_tensor_slices((trainx)).map(lambda x: tf.image.resize(x,(4,4))).cache().shuffle(2**10).map(lambda x: tf.image.random_flip_left_right(x)).batch(2**8,drop_remainder=True).prefetch(tf.data.AUTOTUNE)\n",
    "data8 = tf.data.Dataset.from_tensor_slices((trainx)).map(lambda x: tf.image.resize(x,(8,8))).cache().shuffle(2**10).map(lambda x: tf.image.random_flip_left_right(x)).batch(2**8,drop_remainder=True).prefetch(tf.data.AUTOTUNE)\n",
    "data16 = tf.data.Dataset.from_tensor_slices((trainx)).map(lambda x: tf.image.resize(x,(16,16))).cache().shuffle(2**10).map(lambda x: tf.image.random_flip_left_right(x)).batch(2**8,drop_remainder=True).prefetch(tf.data.AUTOTUNE)\n",
    "data32 = tf.data.Dataset.from_tensor_slices((trainx)).map(lambda x: tf.image.resize(x,(32,32))).cache().shuffle(2**10).map(lambda x: tf.image.random_flip_left_right(x)).batch(2**8,drop_remainder=True).prefetch(tf.data.AUTOTUNE)"
   ]
  },
  {
   "cell_type": "code",
   "execution_count": null,
   "id": "7cb76371",
   "metadata": {},
   "outputs": [],
   "source": [
    "gen = Generator(name='Generator')\n",
    "dis = Discriminator(name='Discriminator')\n",
    "gen.build()\n",
    "dis.build()\n",
    "# gen.summary()\n",
    "# dis.summary()"
   ]
  },
  {
   "cell_type": "code",
   "execution_count": null,
   "id": "faedea2f",
   "metadata": {},
   "outputs": [],
   "source": [
    "bce = keras.losses.BinaryCrossentropy()\n",
    "opt = [keras.optimizers.Adam(1e-4,.5) for i in range(2)]"
   ]
  },
  {
   "cell_type": "markdown",
   "id": "8252d25d",
   "metadata": {},
   "source": [
    "# Treinamento 4x4"
   ]
  },
  {
   "cell_type": "code",
   "execution_count": null,
   "id": "1c15e0cc",
   "metadata": {},
   "outputs": [],
   "source": [
    "for i in range(120+1):\n",
    "    for batch in data4:\n",
    "        gl, dl = train_step([gen,dis],batch,bce,opt,stage=0)\n",
    "    if i%10 == 0: print(f'EP = {i}; Gloss = {gl:.4f}; Dloss = {dl:.4f};')"
   ]
  },
  {
   "cell_type": "code",
   "execution_count": null,
   "id": "d411700d",
   "metadata": {},
   "outputs": [],
   "source": [
    "img = gen(tf.random.normal((1,128),0,1),stage=0)\n",
    "img = np.uint8(img[0]*127.5+127.5)\n",
    "plt.imshow(img)\n",
    "plt.show()"
   ]
  },
  {
   "cell_type": "markdown",
   "id": "f059170b",
   "metadata": {},
   "source": [
    "# Treinamento 8x8"
   ]
  },
  {
   "cell_type": "code",
   "execution_count": null,
   "id": "97d33fee",
   "metadata": {},
   "outputs": [],
   "source": [
    "for i in range(120+1):\n",
    "    # gen.fade_in[0].alpha.assign(i/120.)\n",
    "    # dis.fade_in[0].alpha.assign(i/120.)\n",
    "    for batch in data8:\n",
    "        gl, dl = train_step([gen,dis],batch,bce,opt,stage=1)\n",
    "    if i%10 == 0: print(f'EP = {i}; Gloss = {gl:.4f}; Dloss = {dl:.4f};')"
   ]
  },
  {
   "cell_type": "code",
   "execution_count": null,
   "id": "c504d78d",
   "metadata": {},
   "outputs": [],
   "source": [
    "img = gen(tf.random.normal((1,128),0,1),stage=1)\n",
    "img = np.uint8(img[0]*127.5+127.5)\n",
    "plt.imshow(img)\n",
    "plt.show()"
   ]
  },
  {
   "cell_type": "markdown",
   "id": "4b7cb765",
   "metadata": {},
   "source": [
    "# Treinamento 16x16"
   ]
  },
  {
   "cell_type": "code",
   "execution_count": null,
   "id": "3ff4ed7d",
   "metadata": {},
   "outputs": [],
   "source": [
    "for i in range(120+1):\n",
    "    # gen.fade_in[1].alpha.assign(i/120.)\n",
    "    # dis.fade_in[1].alpha.assign(i/120.)\n",
    "    for batch in data16:\n",
    "        gl, dl = train_step([gen,dis],batch,bce,opt,stage=2)\n",
    "    if i%10 == 0: print(f'EP = {i}; Gloss = {gl:.4f}; Dloss = {dl:.4f};')"
   ]
  },
  {
   "cell_type": "code",
   "execution_count": null,
   "id": "f49c99d3",
   "metadata": {},
   "outputs": [],
   "source": [
    "img = gen(tf.random.normal((1,128),0,1),stage=2)\n",
    "img = np.uint8(img[0]*127.5+127.5)\n",
    "plt.imshow(img)\n",
    "plt.show()"
   ]
  },
  {
   "cell_type": "markdown",
   "id": "38d7c134",
   "metadata": {},
   "source": [
    "# Treinamento 32x32"
   ]
  },
  {
   "cell_type": "code",
   "execution_count": null,
   "id": "a10d9e21",
   "metadata": {},
   "outputs": [],
   "source": [
    "for i in range(120+1):\n",
    "    # gen.fade_in[2].alpha.assign(i/120.)\n",
    "    # dis.fade_in[2].alpha.assign(i/120.)\n",
    "    for batch in data32:\n",
    "        gl, dl = train_step([gen,dis],batch,bce,opt,stage=3)\n",
    "    if i%10 == 0: print(f'EP = {i}; Gloss = {gl:.4f}; Dloss = {dl:.4f};')"
   ]
  },
  {
   "cell_type": "code",
   "execution_count": null,
   "id": "4357b1c6",
   "metadata": {},
   "outputs": [],
   "source": [
    "f = 10\n",
    "\n",
    "imgs = gen(tf.random.normal((f**2,128),0,1),stage=3)\n",
    "imgs = np.uint8(imgs*127.5+127.5)\n",
    "fig, ax = plt.subplots(f,f,figsize=(8,8))\n",
    "ax = ax.ravel()\n",
    "for i in range(f*f):\n",
    "    ax[i].imshow(imgs[i])\n",
    "    ax[i].set_axis_off()\n",
    "plt.tight_layout(pad=0)\n",
    "plt.show()"
   ]
  },
  {
   "cell_type": "code",
   "execution_count": null,
   "id": "8564157e",
   "metadata": {},
   "outputs": [],
   "source": [
    "img = gen(tf.random.normal((1,128)),stage=3)\n",
    "plt.imshow(np.uint8(img[0]*127.5+127.5))\n",
    "plt.show()"
   ]
  }
 ],
 "metadata": {
  "kernelspec": {
   "display_name": "venv311",
   "language": "python",
   "name": "python3"
  },
  "language_info": {
   "codemirror_mode": {
    "name": "ipython",
    "version": 3
   },
   "file_extension": ".py",
   "mimetype": "text/x-python",
   "name": "python",
   "nbconvert_exporter": "python",
   "pygments_lexer": "ipython3",
   "version": "3.11.13"
  }
 },
 "nbformat": 4,
 "nbformat_minor": 5
}

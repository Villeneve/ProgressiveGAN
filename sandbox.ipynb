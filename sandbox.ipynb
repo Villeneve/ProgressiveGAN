{
 "cells": [
  {
   "cell_type": "code",
   "execution_count": 1,
   "id": "a4a76bd6",
   "metadata": {},
   "outputs": [
    {
     "name": "stderr",
     "output_type": "stream",
     "text": [
      "2025-09-04 01:26:12.607940: E external/local_xla/xla/stream_executor/cuda/cuda_fft.cc:467] Unable to register cuFFT factory: Attempting to register factory for plugin cuFFT when one has already been registered\n",
      "WARNING: All log messages before absl::InitializeLog() is called are written to STDERR\n",
      "E0000 00:00:1756949172.639023 3412080 cuda_dnn.cc:8579] Unable to register cuDNN factory: Attempting to register factory for plugin cuDNN when one has already been registered\n",
      "E0000 00:00:1756949172.649315 3412080 cuda_blas.cc:1407] Unable to register cuBLAS factory: Attempting to register factory for plugin cuBLAS when one has already been registered\n",
      "W0000 00:00:1756949172.673480 3412080 computation_placer.cc:177] computation placer already registered. Please check linkage and avoid linking the same target more than once.\n",
      "W0000 00:00:1756949172.673509 3412080 computation_placer.cc:177] computation placer already registered. Please check linkage and avoid linking the same target more than once.\n",
      "W0000 00:00:1756949172.673512 3412080 computation_placer.cc:177] computation placer already registered. Please check linkage and avoid linking the same target more than once.\n",
      "W0000 00:00:1756949172.673515 3412080 computation_placer.cc:177] computation placer already registered. Please check linkage and avoid linking the same target more than once.\n",
      "2025-09-04 01:26:12.680471: I tensorflow/core/platform/cpu_feature_guard.cc:210] This TensorFlow binary is optimized to use available CPU instructions in performance-critical operations.\n",
      "To enable the following instructions: FMA, in other operations, rebuild TensorFlow with the appropriate compiler flags.\n"
     ]
    }
   ],
   "source": [
    "import os\n",
    "os.environ['CUDA_VISIBLE_DEVICES'] = \"1\"\n",
    "os.environ['KERAS_BACKEND'] = \"tensorflow\"\n",
    "import keras\n",
    "import keras.layers as lay\n",
    "import matplotlib.pyplot as plt\n",
    "import tensorflow as tf\n",
    "import numpy as np\n",
    "from src.generator import Generator\n",
    "from src.discriminator import Discriminator\n",
    "from src.aux_fn import train_step"
   ]
  },
  {
   "cell_type": "code",
   "execution_count": 2,
   "id": "9ebb881f",
   "metadata": {},
   "outputs": [
    {
     "name": "stdout",
     "output_type": "stream",
     "text": [
      "WARNING:tensorflow:AutoGraph could not transform <function <lambda> at 0x719eff918d60> and will run it as-is.\n",
      "Cause: could not parse the source code of <function <lambda> at 0x719eff918d60>: found multiple definitions with identical signatures at the location. This error may be avoided by defining each lambda on a single line and with unique argument names. The matching definitions were:\n",
      "Match 0:\n",
      "lambda x: tf.image.random_flip_left_right(x)\n",
      "\n",
      "Match 1:\n",
      "lambda x: tf.image.resize(x, (4, 4))\n",
      "\n",
      "To silence this warning, decorate the function with @tf.autograph.experimental.do_not_convert\n",
      "WARNING: AutoGraph could not transform <function <lambda> at 0x719eff918d60> and will run it as-is.\n",
      "Cause: could not parse the source code of <function <lambda> at 0x719eff918d60>: found multiple definitions with identical signatures at the location. This error may be avoided by defining each lambda on a single line and with unique argument names. The matching definitions were:\n",
      "Match 0:\n",
      "lambda x: tf.image.random_flip_left_right(x)\n",
      "\n",
      "Match 1:\n",
      "lambda x: tf.image.resize(x, (4, 4))\n",
      "\n",
      "To silence this warning, decorate the function with @tf.autograph.experimental.do_not_convert\n",
      "WARNING:tensorflow:AutoGraph could not transform <function <lambda> at 0x719eff919ee0> and will run it as-is.\n",
      "Cause: could not parse the source code of <function <lambda> at 0x719eff919ee0>: found multiple definitions with identical signatures at the location. This error may be avoided by defining each lambda on a single line and with unique argument names. The matching definitions were:\n",
      "Match 0:\n",
      "lambda x: tf.image.random_flip_left_right(x)\n",
      "\n",
      "Match 1:\n",
      "lambda x: tf.image.resize(x, (4, 4))\n",
      "\n",
      "To silence this warning, decorate the function with @tf.autograph.experimental.do_not_convert\n",
      "WARNING: AutoGraph could not transform <function <lambda> at 0x719eff919ee0> and will run it as-is.\n",
      "Cause: could not parse the source code of <function <lambda> at 0x719eff919ee0>: found multiple definitions with identical signatures at the location. This error may be avoided by defining each lambda on a single line and with unique argument names. The matching definitions were:\n",
      "Match 0:\n",
      "lambda x: tf.image.random_flip_left_right(x)\n",
      "\n",
      "Match 1:\n",
      "lambda x: tf.image.resize(x, (4, 4))\n",
      "\n",
      "To silence this warning, decorate the function with @tf.autograph.experimental.do_not_convert\n",
      "WARNING:tensorflow:AutoGraph could not transform <function <lambda> at 0x719eff91a520> and will run it as-is.\n",
      "Cause: could not parse the source code of <function <lambda> at 0x719eff91a520>: found multiple definitions with identical signatures at the location. This error may be avoided by defining each lambda on a single line and with unique argument names. The matching definitions were:\n",
      "Match 0:\n",
      "lambda x: tf.image.random_flip_left_right(x)\n",
      "\n",
      "Match 1:\n",
      "lambda x: tf.image.resize(x, (8, 8))\n",
      "\n",
      "To silence this warning, decorate the function with @tf.autograph.experimental.do_not_convert\n",
      "WARNING: AutoGraph could not transform <function <lambda> at 0x719eff91a520> and will run it as-is.\n",
      "Cause: could not parse the source code of <function <lambda> at 0x719eff91a520>: found multiple definitions with identical signatures at the location. This error may be avoided by defining each lambda on a single line and with unique argument names. The matching definitions were:\n",
      "Match 0:\n",
      "lambda x: tf.image.random_flip_left_right(x)\n",
      "\n",
      "Match 1:\n",
      "lambda x: tf.image.resize(x, (8, 8))\n",
      "\n",
      "To silence this warning, decorate the function with @tf.autograph.experimental.do_not_convert\n",
      "WARNING:tensorflow:AutoGraph could not transform <function <lambda> at 0x719eff91a480> and will run it as-is.\n",
      "Cause: could not parse the source code of <function <lambda> at 0x719eff91a480>: found multiple definitions with identical signatures at the location. This error may be avoided by defining each lambda on a single line and with unique argument names. The matching definitions were:\n",
      "Match 0:\n",
      "lambda x: tf.image.random_flip_left_right(x)\n",
      "\n",
      "Match 1:\n",
      "lambda x: tf.image.resize(x, (8, 8))\n",
      "\n",
      "To silence this warning, decorate the function with @tf.autograph.experimental.do_not_convert\n",
      "WARNING: AutoGraph could not transform <function <lambda> at 0x719eff91a480> and will run it as-is.\n",
      "Cause: could not parse the source code of <function <lambda> at 0x719eff91a480>: found multiple definitions with identical signatures at the location. This error may be avoided by defining each lambda on a single line and with unique argument names. The matching definitions were:\n",
      "Match 0:\n",
      "lambda x: tf.image.random_flip_left_right(x)\n",
      "\n",
      "Match 1:\n",
      "lambda x: tf.image.resize(x, (8, 8))\n",
      "\n",
      "To silence this warning, decorate the function with @tf.autograph.experimental.do_not_convert\n",
      "WARNING:tensorflow:AutoGraph could not transform <function <lambda> at 0x719eff91b060> and will run it as-is.\n",
      "Cause: could not parse the source code of <function <lambda> at 0x719eff91b060>: found multiple definitions with identical signatures at the location. This error may be avoided by defining each lambda on a single line and with unique argument names. The matching definitions were:\n",
      "Match 0:\n",
      "lambda x: tf.image.random_flip_left_right(x)\n",
      "\n",
      "Match 1:\n",
      "lambda x: tf.image.resize(x, (16, 16))\n",
      "\n",
      "To silence this warning, decorate the function with @tf.autograph.experimental.do_not_convert\n",
      "WARNING: AutoGraph could not transform <function <lambda> at 0x719eff91b060> and will run it as-is.\n",
      "Cause: could not parse the source code of <function <lambda> at 0x719eff91b060>: found multiple definitions with identical signatures at the location. This error may be avoided by defining each lambda on a single line and with unique argument names. The matching definitions were:\n",
      "Match 0:\n",
      "lambda x: tf.image.random_flip_left_right(x)\n",
      "\n",
      "Match 1:\n",
      "lambda x: tf.image.resize(x, (16, 16))\n",
      "\n",
      "To silence this warning, decorate the function with @tf.autograph.experimental.do_not_convert\n",
      "WARNING:tensorflow:AutoGraph could not transform <function <lambda> at 0x719eff9194e0> and will run it as-is.\n",
      "Cause: could not parse the source code of <function <lambda> at 0x719eff9194e0>: found multiple definitions with identical signatures at the location. This error may be avoided by defining each lambda on a single line and with unique argument names. The matching definitions were:\n",
      "Match 0:\n",
      "lambda x: tf.image.random_flip_left_right(x)\n",
      "\n",
      "Match 1:\n",
      "lambda x: tf.image.resize(x, (16, 16))\n",
      "\n",
      "To silence this warning, decorate the function with @tf.autograph.experimental.do_not_convert\n",
      "WARNING: AutoGraph could not transform <function <lambda> at 0x719eff9194e0> and will run it as-is.\n",
      "Cause: could not parse the source code of <function <lambda> at 0x719eff9194e0>: found multiple definitions with identical signatures at the location. This error may be avoided by defining each lambda on a single line and with unique argument names. The matching definitions were:\n",
      "Match 0:\n",
      "lambda x: tf.image.random_flip_left_right(x)\n",
      "\n",
      "Match 1:\n",
      "lambda x: tf.image.resize(x, (16, 16))\n",
      "\n",
      "To silence this warning, decorate the function with @tf.autograph.experimental.do_not_convert\n"
     ]
    },
    {
     "name": "stderr",
     "output_type": "stream",
     "text": [
      "I0000 00:00:1756949180.248027 3412080 gpu_device.cc:2019] Created device /job:localhost/replica:0/task:0/device:GPU:0 with 10262 MB memory:  -> device: 0, name: NVIDIA GeForce RTX 3060, pci bus id: 0000:04:00.0, compute capability: 8.6\n"
     ]
    },
    {
     "name": "stdout",
     "output_type": "stream",
     "text": [
      "WARNING:tensorflow:AutoGraph could not transform <function <lambda> at 0x719eff91b560> and will run it as-is.\n",
      "Cause: could not parse the source code of <function <lambda> at 0x719eff91b560>: found multiple definitions with identical signatures at the location. This error may be avoided by defining each lambda on a single line and with unique argument names. The matching definitions were:\n",
      "Match 0:\n",
      "lambda x: tf.image.random_flip_left_right(x)\n",
      "\n",
      "Match 1:\n",
      "lambda x: tf.image.resize(x, (32, 32))\n",
      "\n",
      "To silence this warning, decorate the function with @tf.autograph.experimental.do_not_convert\n",
      "WARNING: AutoGraph could not transform <function <lambda> at 0x719eff91b560> and will run it as-is.\n",
      "Cause: could not parse the source code of <function <lambda> at 0x719eff91b560>: found multiple definitions with identical signatures at the location. This error may be avoided by defining each lambda on a single line and with unique argument names. The matching definitions were:\n",
      "Match 0:\n",
      "lambda x: tf.image.random_flip_left_right(x)\n",
      "\n",
      "Match 1:\n",
      "lambda x: tf.image.resize(x, (32, 32))\n",
      "\n",
      "To silence this warning, decorate the function with @tf.autograph.experimental.do_not_convert\n",
      "WARNING:tensorflow:AutoGraph could not transform <function <lambda> at 0x719eff91b1a0> and will run it as-is.\n",
      "Cause: could not parse the source code of <function <lambda> at 0x719eff91b1a0>: found multiple definitions with identical signatures at the location. This error may be avoided by defining each lambda on a single line and with unique argument names. The matching definitions were:\n",
      "Match 0:\n",
      "lambda x: tf.image.random_flip_left_right(x)\n",
      "\n",
      "Match 1:\n",
      "lambda x: tf.image.resize(x, (32, 32))\n",
      "\n",
      "To silence this warning, decorate the function with @tf.autograph.experimental.do_not_convert\n",
      "WARNING: AutoGraph could not transform <function <lambda> at 0x719eff91b1a0> and will run it as-is.\n",
      "Cause: could not parse the source code of <function <lambda> at 0x719eff91b1a0>: found multiple definitions with identical signatures at the location. This error may be avoided by defining each lambda on a single line and with unique argument names. The matching definitions were:\n",
      "Match 0:\n",
      "lambda x: tf.image.random_flip_left_right(x)\n",
      "\n",
      "Match 1:\n",
      "lambda x: tf.image.resize(x, (32, 32))\n",
      "\n",
      "To silence this warning, decorate the function with @tf.autograph.experimental.do_not_convert\n"
     ]
    }
   ],
   "source": [
    "(trainx,trainy),(_,_) = keras.datasets.cifar10.load_data()\n",
    "trainx = trainx[trainy[:,0]==1]\n",
    "trainx = (tf.cast(trainx,tf.float32)-127.5)/127.5\n",
    "data4 = tf.data.Dataset.from_tensor_slices((trainx)).map(lambda x: tf.image.resize(x,(4,4))).cache().repeat(120).shuffle(2**10).map(lambda x: tf.image.random_flip_left_right(x)).batch(2**8,drop_remainder=True).prefetch(tf.data.AUTOTUNE)\n",
    "data8 = tf.data.Dataset.from_tensor_slices((trainx)).map(lambda x: tf.image.resize(x,(8,8))).cache().repeat(120).shuffle(2**10).map(lambda x: tf.image.random_flip_left_right(x)).batch(2**8,drop_remainder=True).prefetch(tf.data.AUTOTUNE)\n",
    "data16 = tf.data.Dataset.from_tensor_slices((trainx)).map(lambda x: tf.image.resize(x,(16,16))).cache().repeat(120).shuffle(2**10).map(lambda x: tf.image.random_flip_left_right(x)).batch(2**8,drop_remainder=True).prefetch(tf.data.AUTOTUNE)\n",
    "data32 = tf.data.Dataset.from_tensor_slices((trainx)).map(lambda x: tf.image.resize(x,(32,32))).cache().repeat(120).shuffle(2**10).map(lambda x: tf.image.random_flip_left_right(x)).batch(2**8,drop_remainder=True).prefetch(tf.data.AUTOTUNE)"
   ]
  },
  {
   "cell_type": "code",
   "execution_count": 3,
   "id": "7cb76371",
   "metadata": {},
   "outputs": [],
   "source": [
    "gen = Generator(name='Generator')\n",
    "dis = Discriminator(name='Discriminator')\n",
    "gen.build()\n",
    "dis.build()\n",
    "# gen.summary()\n",
    "# dis.summary()"
   ]
  },
  {
   "cell_type": "code",
   "execution_count": 4,
   "id": "faedea2f",
   "metadata": {},
   "outputs": [],
   "source": [
    "bce = keras.losses.BinaryCrossentropy()\n",
    "opt = [keras.optimizers.Adam(1e-4,.5) for i in range(2)]"
   ]
  },
  {
   "cell_type": "markdown",
   "id": "8252d25d",
   "metadata": {},
   "source": [
    "# Treinamento 4x4"
   ]
  },
  {
   "cell_type": "code",
   "execution_count": null,
   "id": "1c15e0cc",
   "metadata": {},
   "outputs": [
    {
     "name": "stderr",
     "output_type": "stream",
     "text": [
      "/home/villeneve/venv311/lib/python3.11/site-packages/keras/src/optimizers/base_optimizer.py:857: UserWarning: Gradients do not exist for variables ['Generator/toRGB8/kernel', 'Generator/toRGB8/bias', 'Generator/toRGB16/kernel', 'Generator/toRGB16/bias', 'Generator/toRGB32/kernel', 'Generator/toRGB32/bias', 'Generator/block8_conv0/kernel', 'Generator/block8_conv0/bias', 'Generator/block8_conv1/kernel', 'Generator/block8_conv1/bias', 'Generator/block16_conv0/kernel', 'Generator/block16_conv0/bias', 'Generator/block16_conv1/kernel', 'Generator/block16_conv1/bias', 'Generator/block32_conv0/kernel', 'Generator/block32_conv0/bias', 'Generator/block32_conv1/kernel', 'Generator/block32_conv1/bias'] when minimizing the loss. If using `model.compile()`, did you forget to provide a `loss` argument?\n",
      "  warnings.warn(\n",
      "/home/villeneve/venv311/lib/python3.11/site-packages/keras/src/optimizers/base_optimizer.py:857: UserWarning: Gradients do not exist for variables ['Discriminator/fromRGB8/kernel', 'Discriminator/fromRGB8/bias', 'Discriminator/fromRGB16/kernel', 'Discriminator/fromRGB16/bias', 'Discriminator/fromRGB32/kernel', 'Discriminator/fromRGB32/bias', 'Discriminator/block8_conv0/kernel', 'Discriminator/block8_conv0/bias', 'Discriminator/block8_conv1/kernel', 'Discriminator/block8_conv1/bias', 'Discriminator/block16_conv0/kernel', 'Discriminator/block16_conv0/bias', 'Discriminator/block16_conv1/kernel', 'Discriminator/block16_conv1/bias', 'Discriminator/block32_conv0/kernel', 'Discriminator/block32_conv0/bias', 'Discriminator/block32_conv1/kernel', 'Discriminator/block32_conv1/bias'] when minimizing the loss. If using `model.compile()`, did you forget to provide a `loss` argument?\n",
      "  warnings.warn(\n",
      "I0000 00:00:1756949186.555363 3412252 cuda_dnn.cc:529] Loaded cuDNN version 90300\n"
     ]
    },
    {
     "name": "stdout",
     "output_type": "stream",
     "text": [
      "EP = 0; Gloss = 0.7039; Dloss = 0.7016;\n",
      "EP = 234; Gloss = 1.4050; Dloss = 0.6167;\n",
      "EP = 468; Gloss = 0.7571; Dloss = 0.5906;\n",
      "EP = 702; Gloss = 0.8072; Dloss = 0.6746;\n",
      "EP = 936; Gloss = 0.7075; Dloss = 0.6829;\n",
      "EP = 1170; Gloss = 0.6943; Dloss = 0.6855;\n",
      "EP = 1404; Gloss = 0.6995; Dloss = 0.6832;\n",
      "EP = 1638; Gloss = 0.7064; Dloss = 0.6938;\n",
      "EP = 1872; Gloss = 0.7276; Dloss = 0.6843;\n",
      "EP = 2106; Gloss = 0.7139; Dloss = 0.6948;\n",
      "EP = 2340; Gloss = 0.6884; Dloss = 0.6968;\n"
     ]
    },
    {
     "name": "stderr",
     "output_type": "stream",
     "text": [
      "2025-09-04 01:27:12.820058: I tensorflow/core/framework/local_rendezvous.cc:407] Local rendezvous is aborting with status: OUT_OF_RANGE: End of sequence\n"
     ]
    }
   ],
   "source": [
    "# for i in range(120+1):\n",
    "for _ in range(2):\n",
    "    for i,batch in enumerate(data4):\n",
    "        gl, dl = train_step([gen,dis],batch,bce,opt,stage=0)\n",
    "        if i%234 == 0: print(f'EP = {i}; Gloss = {gl:.4f}; Dloss = {dl:.4f};')"
   ]
  },
  {
   "cell_type": "code",
   "execution_count": 12,
   "id": "d411700d",
   "metadata": {},
   "outputs": [
    {
     "data": {
      "image/png": "[encoded data removed]",
      "text/plain": [
       "<Figure size 640x480 with 1 Axes>"
      ]
     },
     "metadata": {},
     "output_type": "display_data"
    }
   ],
   "source": [
    "img = gen(tf.random.normal((1,128),0,1),stage=0)\n",
    "img = np.uint8(img[0]*127.5+127.5)\n",
    "plt.imshow(img)\n",
    "plt.show()"
   ]
  },
  {
   "cell_type": "markdown",
   "id": "f059170b",
   "metadata": {},
   "source": [
    "# Treinamento 8x8"
   ]
  },
  {
   "cell_type": "code",
   "execution_count": 13,
   "id": "97d33fee",
   "metadata": {},
   "outputs": [
    {
     "name": "stderr",
     "output_type": "stream",
     "text": [
      "/home/villeneve/venv311/lib/python3.11/site-packages/keras/src/optimizers/base_optimizer.py:857: UserWarning: Gradients do not exist for variables ['Generator/toRGB16/kernel', 'Generator/toRGB16/bias', 'Generator/toRGB32/kernel', 'Generator/toRGB32/bias', 'Generator/block16_conv0/kernel', 'Generator/block16_conv0/bias', 'Generator/block16_conv1/kernel', 'Generator/block16_conv1/bias', 'Generator/block32_conv0/kernel', 'Generator/block32_conv0/bias', 'Generator/block32_conv1/kernel', 'Generator/block32_conv1/bias'] when minimizing the loss. If using `model.compile()`, did you forget to provide a `loss` argument?\n",
      "  warnings.warn(\n",
      "/home/villeneve/venv311/lib/python3.11/site-packages/keras/src/optimizers/base_optimizer.py:857: UserWarning: Gradients do not exist for variables ['Discriminator/fromRGB16/kernel', 'Discriminator/fromRGB16/bias', 'Discriminator/fromRGB32/kernel', 'Discriminator/fromRGB32/bias', 'Discriminator/block16_conv0/kernel', 'Discriminator/block16_conv0/bias', 'Discriminator/block16_conv1/kernel', 'Discriminator/block16_conv1/bias', 'Discriminator/block32_conv0/kernel', 'Discriminator/block32_conv0/bias', 'Discriminator/block32_conv1/kernel', 'Discriminator/block32_conv1/bias'] when minimizing the loss. If using `model.compile()`, did you forget to provide a `loss` argument?\n",
      "  warnings.warn(\n"
     ]
    },
    {
     "name": "stdout",
     "output_type": "stream",
     "text": [
      "EP = 0; Gloss = 0.6963; Dloss = 0.6991;\n",
      "EP = 234; Gloss = 1.4188; Dloss = 0.2532;\n",
      "EP = 468; Gloss = 1.1452; Dloss = 0.4798;\n",
      "EP = 702; Gloss = 0.9933; Dloss = 0.5521;\n",
      "EP = 936; Gloss = 0.9055; Dloss = 0.6643;\n",
      "EP = 1170; Gloss = 0.8919; Dloss = 0.6264;\n",
      "EP = 1404; Gloss = 0.9363; Dloss = 0.6630;\n",
      "EP = 1638; Gloss = 0.7672; Dloss = 0.6979;\n",
      "EP = 1872; Gloss = 0.8203; Dloss = 0.6651;\n",
      "EP = 2106; Gloss = 0.7443; Dloss = 0.6928;\n",
      "EP = 2340; Gloss = 0.8335; Dloss = 0.6545;\n",
      "EP = 0; Gloss = 0.7305; Dloss = 0.6723;\n"
     ]
    },
    {
     "name": "stderr",
     "output_type": "stream",
     "text": [
      "2025-09-04 01:30:07.723660: I tensorflow/core/framework/local_rendezvous.cc:407] Local rendezvous is aborting with status: OUT_OF_RANGE: End of sequence\n"
     ]
    },
    {
     "name": "stdout",
     "output_type": "stream",
     "text": [
      "EP = 234; Gloss = 0.7438; Dloss = 0.7337;\n",
      "EP = 468; Gloss = 0.7762; Dloss = 0.6739;\n",
      "EP = 702; Gloss = 0.8478; Dloss = 0.7244;\n",
      "EP = 936; Gloss = 0.7672; Dloss = 0.7016;\n",
      "EP = 1170; Gloss = 0.7349; Dloss = 0.6820;\n",
      "EP = 1404; Gloss = 0.8171; Dloss = 0.6746;\n",
      "EP = 1638; Gloss = 0.6807; Dloss = 0.6981;\n",
      "EP = 1872; Gloss = 0.7817; Dloss = 0.6736;\n",
      "EP = 2106; Gloss = 0.7721; Dloss = 0.6842;\n",
      "EP = 2340; Gloss = 0.7989; Dloss = 0.6878;\n"
     ]
    }
   ],
   "source": [
    "# for i in range(120+1):\n",
    "    # gen.fade_in[0].alpha.assign(i/120.)\n",
    "    # dis.fade_in[0].alpha.assign(i/120.)\n",
    "for i,batch in enumerate(data8):\n",
    "    gen.fade_in[0].alpha.assign(i/2344.)\n",
    "    dis.fade_in[0].alpha.assign(i/2344.)\n",
    "    gl, dl = train_step([gen,dis],batch,bce,opt,stage=1)\n",
    "    if i%234 == 0: print(f'EP = {i}; Gloss = {gl:.4f}; Dloss = {dl:.4f};')\n",
    "\n",
    "gen.fade_in[0].alpha.assign(1.)\n",
    "dis.fade_in[0].alpha.assign(1.)\n",
    "for i,batch in enumerate(data8):\n",
    "    gl, dl = train_step([gen,dis],batch,bce,opt,stage=1)\n",
    "    if i%234 == 0: print(f'EP = {i}; Gloss = {gl:.4f}; Dloss = {dl:.4f};')"
   ]
  },
  {
   "cell_type": "code",
   "execution_count": 21,
   "id": "c504d78d",
   "metadata": {},
   "outputs": [
    {
     "data": {
      "image/png": "[encoded data removed]",
      "text/plain": [
       "<Figure size 640x480 with 1 Axes>"
      ]
     },
     "metadata": {},
     "output_type": "display_data"
    }
   ],
   "source": [
    "img = gen(tf.random.normal((1,128),0,1),stage=1)\n",
    "img = np.uint8(img[0]*127.5+127.5)\n",
    "plt.imshow(img)\n",
    "plt.show()"
   ]
  },
  {
   "cell_type": "markdown",
   "id": "4b7cb765",
   "metadata": {},
   "source": [
    "# Treinamento 16x16"
   ]
  },
  {
   "cell_type": "code",
   "execution_count": 22,
   "id": "3ff4ed7d",
   "metadata": {},
   "outputs": [
    {
     "name": "stderr",
     "output_type": "stream",
     "text": [
      "/home/villeneve/venv311/lib/python3.11/site-packages/keras/src/optimizers/base_optimizer.py:857: UserWarning: Gradients do not exist for variables ['Generator/toRGB4/kernel', 'Generator/toRGB4/bias', 'Generator/toRGB32/kernel', 'Generator/toRGB32/bias', 'Generator/block32_conv0/kernel', 'Generator/block32_conv0/bias', 'Generator/block32_conv1/kernel', 'Generator/block32_conv1/bias'] when minimizing the loss. If using `model.compile()`, did you forget to provide a `loss` argument?\n",
      "  warnings.warn(\n",
      "/home/villeneve/venv311/lib/python3.11/site-packages/keras/src/optimizers/base_optimizer.py:857: UserWarning: Gradients do not exist for variables ['Discriminator/fromRGB4/kernel', 'Discriminator/fromRGB4/bias', 'Discriminator/fromRGB32/kernel', 'Discriminator/fromRGB32/bias', 'Discriminator/block32_conv0/kernel', 'Discriminator/block32_conv0/bias', 'Discriminator/block32_conv1/kernel', 'Discriminator/block32_conv1/bias'] when minimizing the loss. If using `model.compile()`, did you forget to provide a `loss` argument?\n",
      "  warnings.warn(\n"
     ]
    },
    {
     "name": "stdout",
     "output_type": "stream",
     "text": [
      "EP = 0; Gloss = 0.8644; Dloss = 0.7003;\n",
      "EP = 234; Gloss = 0.9269; Dloss = 0.5765;\n",
      "EP = 468; Gloss = 0.9404; Dloss = 0.6435;\n",
      "EP = 702; Gloss = 0.7854; Dloss = 0.6782;\n",
      "EP = 936; Gloss = 0.9159; Dloss = 0.6793;\n",
      "EP = 1170; Gloss = 0.7732; Dloss = 0.6765;\n",
      "EP = 1404; Gloss = 0.9268; Dloss = 0.6821;\n",
      "EP = 1638; Gloss = 0.7615; Dloss = 0.6856;\n",
      "EP = 1872; Gloss = 0.7601; Dloss = 0.6669;\n",
      "EP = 2106; Gloss = 1.0321; Dloss = 0.6559;\n",
      "EP = 2340; Gloss = 0.9119; Dloss = 0.6395;\n"
     ]
    },
    {
     "name": "stderr",
     "output_type": "stream",
     "text": [
      "2025-09-04 01:39:44.604294: I tensorflow/core/framework/local_rendezvous.cc:407] Local rendezvous is aborting with status: OUT_OF_RANGE: End of sequence\n"
     ]
    },
    {
     "name": "stdout",
     "output_type": "stream",
     "text": [
      "EP = 0; Gloss = 0.8851; Dloss = 0.6346;\n",
      "EP = 234; Gloss = 0.8875; Dloss = 0.6780;\n",
      "EP = 468; Gloss = 1.0261; Dloss = 0.7221;\n",
      "EP = 702; Gloss = 0.9070; Dloss = 0.6580;\n",
      "EP = 936; Gloss = 0.9390; Dloss = 0.5343;\n",
      "EP = 1170; Gloss = 0.8380; Dloss = 0.6711;\n",
      "EP = 1404; Gloss = 1.0903; Dloss = 0.5192;\n",
      "EP = 1638; Gloss = 0.9409; Dloss = 0.6560;\n",
      "EP = 1872; Gloss = 1.9974; Dloss = 0.4602;\n",
      "EP = 2106; Gloss = 0.8777; Dloss = 0.6395;\n",
      "EP = 2340; Gloss = 1.0821; Dloss = 0.2821;\n"
     ]
    }
   ],
   "source": [
    "# for i in range(120+1):\n",
    "    # gen.fade_in[1].alpha.assign(i/2344.)\n",
    "    # dis.fade_in[1].alpha.assign(i/2344.)\n",
    "for i,batch in enumerate(data16):\n",
    "    gen.fade_in[1].alpha.assign(i/2344.)\n",
    "    dis.fade_in[1].alpha.assign(i/2344.)\n",
    "    gl, dl = train_step([gen,dis],batch,bce,opt,stage=2)\n",
    "    if i%234 == 0: print(f'EP = {i}; Gloss = {gl:.4f}; Dloss = {dl:.4f};')\n",
    "\n",
    "gen.fade_in[1].alpha.assign(1.)\n",
    "dis.fade_in[1].alpha.assign(1.)\n",
    "for i,batch in enumerate(data16):\n",
    "    gl, dl = train_step([gen,dis],batch,bce,opt,stage=2)\n",
    "    if i%234 == 0: print(f'EP = {i}; Gloss = {gl:.4f}; Dloss = {dl:.4f};')"
   ]
  },
  {
   "cell_type": "code",
   "execution_count": 29,
   "id": "f49c99d3",
   "metadata": {},
   "outputs": [
    {
     "data": {
      "image/png": "[encoded data removed]",
      "text/plain": [
       "<Figure size 640x480 with 1 Axes>"
      ]
     },
     "metadata": {},
     "output_type": "display_data"
    }
   ],
   "source": [
    "# keras.models.save_model(gen,'gen16.keras')\n",
    "# keras.models.save_model(dis,'dis16.keras')\n",
    "img = gen(tf.random.normal((1,128),0,1),stage=2)\n",
    "img = np.uint8(img[0]*127.5+127.5)\n",
    "plt.imshow(img)\n",
    "plt.show()"
   ]
  },
  {
   "cell_type": "markdown",
   "id": "38d7c134",
   "metadata": {},
   "source": [
    "# Treinamento 32x32"
   ]
  },
  {
   "cell_type": "code",
   "execution_count": null,
   "id": "a10d9e21",
   "metadata": {},
   "outputs": [],
   "source": [
    "for i,batch in enumerate(data32):\n",
    "    gen.fade_in[2].alpha.assign(i/2344.)\n",
    "    dis.fade_in[2].alpha.assign(i/2344.)\n",
    "    gl, dl = train_step([gen,dis],batch,bce,opt,stage=3)\n",
    "    if i%234 == 0: print(f'EP = {i}; Gloss = {gl:.4f}; Dloss = {dl:.4f};')\n",
    "\n",
    "gen.fade_in[2].alpha.assign(1.)\n",
    "dis.fade_in[2].alpha.assign(1.)\n",
    "for i,batch in enumerate(data32):\n",
    "    gl, dl = train_step([gen,dis],batch,bce,opt,stage=3)\n",
    "    if i%234 == 0: print(f'EP = {i}; Gloss = {gl:.4f}; Dloss = {dl:.4f};')"
   ]
  },
  {
   "cell_type": "code",
   "execution_count": null,
   "id": "4357b1c6",
   "metadata": {},
   "outputs": [],
   "source": [
    "f = 10\n",
    "\n",
    "imgs = gen(tf.random.normal((f**2,128),0,1),stage=3)\n",
    "imgs = np.uint8(imgs*127.5+127.5)\n",
    "fig, ax = plt.subplots(f,f,figsize=(8,8))\n",
    "ax = ax.ravel()\n",
    "for i in range(f*f):\n",
    "    ax[i].imshow(imgs[i])\n",
    "    ax[i].set_axis_off()\n",
    "plt.tight_layout(pad=0)\n",
    "plt.show()"
   ]
  },
  {
   "cell_type": "code",
   "execution_count": null,
   "id": "8564157e",
   "metadata": {},
   "outputs": [],
   "source": [
    "img = gen(tf.random.normal((1,128)),stage=3)\n",
    "plt.imshow(np.uint8(img[0]*127.5+127.5))\n",
    "plt.show()"
   ]
  }
 ],
 "metadata": {
  "kernelspec": {
   "display_name": "venv311",
   "language": "python",
   "name": "python3"
  },
  "language_info": {
   "codemirror_mode": {
    "name": "ipython",
    "version": 3
   },
   "file_extension": ".py",
   "mimetype": "text/x-python",
   "name": "python",
   "nbconvert_exporter": "python",
   "pygments_lexer": "ipython3",
   "version": "3.11.13"
  }
 },
 "nbformat": 4,
 "nbformat_minor": 5
}

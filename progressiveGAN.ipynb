{
 "cells": [
  {
   "cell_type": "code",
   "execution_count": null,
   "id": "2dfdb1d1",
   "metadata": {},
   "outputs": [],
   "source": [
    "import tensorflow as tf\n",
    "import keras\n",
    "import keras.layers as lay\n",
    "import numpy as np\n",
    "import matplotlib.pyplot as plt\n",
    "import src.generator as gen_fun"
   ]
  },
  {
   "cell_type": "code",
   "execution_count": null,
   "id": "7c09d924",
   "metadata": {},
   "outputs": [],
   "source": [
    "generator = gen_fun.create_generator(128)\n",
    "img = generator.predict_on_batch(tf.random.normal((1,128),0,1))\n",
    "for img_file in img:\n",
    "    plt.imshow(np.uint8(img_file*127.5+127.5))"
   ]
  }
 ],
 "metadata": {
  "kernelspec": {
   "display_name": "venv311",
   "language": "python",
   "name": "python3"
  },
  "language_info": {
   "codemirror_mode": {
    "name": "ipython",
    "version": 3
   },
   "file_extension": ".py",
   "mimetype": "text/x-python",
   "name": "python",
   "nbconvert_exporter": "python",
   "pygments_lexer": "ipython3",
   "version": "3.11.12"
  }
 },
 "nbformat": 4,
 "nbformat_minor": 5
}

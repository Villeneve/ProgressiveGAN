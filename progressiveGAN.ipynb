{
 "cells": [
  {
   "cell_type": "code",
   "execution_count": 1,
   "id": "2dfdb1d1",
   "metadata": {},
   "outputs": [],
   "source": [
    "import tensorflow as tf\n",
    "import keras\n",
    "import keras.layers as lay\n",
    "import numpy as np\n",
    "import matplotlib.pyplot as plt\n",
    "import src.generator as gen_fun"
   ]
  },
  {
   "cell_type": "code",
   "execution_count": 12,
   "id": "542789cd",
   "metadata": {},
   "outputs": [],
   "source": [
    "generator = gen_fun.Generator(input_shape=(128,))"
   ]
  },
  {
   "cell_type": "code",
   "execution_count": 36,
   "id": "7c09d924",
   "metadata": {},
   "outputs": [
    {
     "name": "stdout",
     "output_type": "stream",
     "text": [
      "(1, 4, 4, 3)\n"
     ]
    },
    {
     "data": {
      "image/png": "[encoded data removed]",
      "text/plain": [
       "<Figure size 480x480 with 1 Axes>"
      ]
     },
     "metadata": {},
     "output_type": "display_data"
    }
   ],
   "source": [
    "out = generator(tf.random.normal((1,128),0,1),resolution=4.)\n",
    "print(out.shape)\n",
    "plt.matshow(np.uint8(out[0]*127.5+127.5))\n",
    "plt.show()"
   ]
  }
 ],
 "metadata": {
  "kernelspec": {
   "display_name": "venv311",
   "language": "python",
   "name": "python3"
  },
  "language_info": {
   "codemirror_mode": {
    "name": "ipython",
    "version": 3
   },
   "file_extension": ".py",
   "mimetype": "text/x-python",
   "name": "python",
   "nbconvert_exporter": "python",
   "pygments_lexer": "ipython3",
   "version": "3.11.12"
  }
 },
 "nbformat": 4,
 "nbformat_minor": 5
}

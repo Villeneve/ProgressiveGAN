{
 "cells": [
  {
   "cell_type": "code",
   "execution_count": 1,
   "id": "42aa7f52",
   "metadata": {},
   "outputs": [],
   "source": [
    "import os\n",
    "# os.environ[\"CUDA_VISIBLE_DEVICES\"] = \"1\"\n",
    "os.environ[\"KERAS_BACKEND\"] = \"tensorflow\"\n",
    "import keras\n",
    "import keras.layers as lay\n",
    "import tensorflow as tf\n",
    "import matplotlib.pyplot as plt\n",
    "import numpy as np"
   ]
  },
  {
   "cell_type": "code",
   "execution_count": 36,
   "id": "f0edaa4b",
   "metadata": {},
   "outputs": [],
   "source": [
    "class fade_in(keras.Layer):\n",
    "    def __init__(self, alpha=0.0, activity_regularizer=None, trainable=True, dtype=None, autocast=True, name=None, **kwargs):\n",
    "        super().__init__(activity_regularizer=activity_regularizer, trainable=trainable, dtype=dtype, autocast=autocast, name=name, **kwargs)\n",
    "        self.alpha = tf.Variable(alpha,trainable=False)\n",
    "\n",
    "    def call(self,inputs):\n",
    "        antigo, novo = inputs\n",
    "        return self.alpha*novo + (1-self.alpha)*antigo\n",
    "        \n",
    "\n",
    "def g_block(x, filters):\n",
    "    x = lay.UpSampling2D((2,2))(x)\n",
    "    x = lay.Conv2D(filters,(3,3),(1,1),'same')(x)\n",
    "    x = lay.LeakyReLU(.2)(x)\n",
    "    return x\n",
    "\n",
    "\n",
    "def build_generator_4x4(latent_dim=128):\n",
    "    inputs = lay.Input((latent_dim,))\n",
    "    x = inputs\n",
    "    x = lay.Dense(4*4*512,activation='leaky_relu')(x)\n",
    "    x = lay.Reshape((4,4,512),name='lastfeat_4x4')(x)\n",
    "    img_output = lay.Conv2D(3,(1,1),(1,1),'same',activation='sigmoid',name='toRGB_4x4')(x)\n",
    "    return keras.Model(inputs,img_output,name='Generator_4x4')\n",
    "\n",
    "def build_generator_8x8(g_4x4):\n",
    "    latent_input = g_4x4.input\n",
    "    g_4x4.trainable = False\n",
    "    last_featuremap = g_4x4.get_layer('lastfeat_4x4').output\n",
    "    old_path = lay.UpSampling2D((2,2))(g_4x4.output)\n",
    "    x = g_block(last_featuremap,512)\n",
    "    new_path = lay.Conv2D(3,(1,1),(1,1),'same',activation='sigmoid',name='toRGB_8x8')(x)\n",
    "    output_fade_in = fade_in()([old_path,new_path])\n",
    "    return keras.Model(latent_input,output_fade_in,name='Generator_8x8')\n",
    "\n",
    "def build_generator_16x16(g_8x8):\n",
    "    latent_input = g_8x8.input\n",
    "    g_8x8.trainable = False\n",
    "    last_featuremap = g_8x8.layers[-4].output\n",
    "    old_path = lay.UpSampling2D((2,2))(g_8x8.output)\n",
    "    x = g_block(last_featuremap,512)\n",
    "    new_path = lay.Conv2D(3,(1,1),(1,1),'same',activation='sigmoid',name='toRGB_16x16')(x)\n",
    "    output_fade_in = fade_in()([old_path,new_path])\n",
    "    return keras.Model(latent_input,output_fade_in,name='Generator_16x16')\n",
    "\n",
    "def build_generator_32x32(g_16x16):\n",
    "    latent_input = g_16x16.input\n",
    "    g_16x16.trainable = False\n",
    "    last_featuremap = g_16x16.layers[-4].output\n",
    "    old_path = lay.UpSampling2D((2,2))(g_16x16.output)\n",
    "    x = g_block(last_featuremap,512)\n",
    "    new_path = lay.Conv2D(3,(1,1),(1,1),'same',activation='sigmoid',name='toRGB_32x32')(x)\n",
    "    output_fade_in = fade_in()([old_path,new_path])\n",
    "    return keras.Model(latent_input,output_fade_in,name='Generator_32x32')"
   ]
  },
  {
   "cell_type": "code",
   "execution_count": null,
   "id": "b7823989",
   "metadata": {},
   "outputs": [],
   "source": [
    "def build_discriminator_4x4(filters=128):\n",
    "    inputs = lay.Input((4,4,3))\n",
    "    x = inputs\n",
    "    x = lay.Conv2D(512,(3,3),(1,1),'same',activation='leaky_relu',name='fromRGB_4x4')(x)\n",
    "    x = lay.Conv2D(filters,(3,3),(1,1),'same',activation='leaky_relu')(x)\n",
    "    x = lay.Conv2D(filters,(3,3),(1,1),'same',activation='leaky_relu')(x)\n",
    "    x = lay.Flatten()(x)\n",
    "    x = lay.Dense(1,activation='sigmoid')(x)\n",
    "    return keras.Model(inputs,x)\n",
    "\n",
    "def build_discriminator_8x8(d_4x4, filters=128):\n",
    "    inputs = lay.Input((8,8,3))\n",
    "    d_4x4.trainable = False\n",
    "    \n"
   ]
  },
  {
   "cell_type": "code",
   "execution_count": 43,
   "id": "08c53c6d",
   "metadata": {},
   "outputs": [
    {
     "data": {
      "text/html": [
       "<pre style=\"white-space:pre;overflow-x:auto;line-height:normal;font-family:Menlo,'DejaVu Sans Mono',consolas,'Courier New',monospace\"><span style=\"font-weight: bold\">Model: \"functional_44\"</span>\n",
       "</pre>\n"
      ],
      "text/plain": [
       "\u001b[1mModel: \"functional_44\"\u001b[0m\n"
      ]
     },
     "metadata": {},
     "output_type": "display_data"
    },
    {
     "data": {
      "text/html": [
       "<pre style=\"white-space:pre;overflow-x:auto;line-height:normal;font-family:Menlo,'DejaVu Sans Mono',consolas,'Courier New',monospace\">┏━━━━━━━━━━━━━━━━━━━━━━━━━━━━━━━━━┳━━━━━━━━━━━━━━━━━━━━━━━━┳━━━━━━━━━━━━━━━┓\n",
       "┃<span style=\"font-weight: bold\"> Layer (type)                    </span>┃<span style=\"font-weight: bold\"> Output Shape           </span>┃<span style=\"font-weight: bold\">       Param # </span>┃\n",
       "┡━━━━━━━━━━━━━━━━━━━━━━━━━━━━━━━━━╇━━━━━━━━━━━━━━━━━━━━━━━━╇━━━━━━━━━━━━━━━┩\n",
       "│ input_layer_25 (<span style=\"color: #0087ff; text-decoration-color: #0087ff\">InputLayer</span>)     │ (<span style=\"color: #00d7ff; text-decoration-color: #00d7ff\">None</span>, <span style=\"color: #00af00; text-decoration-color: #00af00\">4</span>, <span style=\"color: #00af00; text-decoration-color: #00af00\">4</span>, <span style=\"color: #00af00; text-decoration-color: #00af00\">3</span>)        │             <span style=\"color: #00af00; text-decoration-color: #00af00\">0</span> │\n",
       "├─────────────────────────────────┼────────────────────────┼───────────────┤\n",
       "│ fromRGB_4x4 (<span style=\"color: #0087ff; text-decoration-color: #0087ff\">Conv2D</span>)            │ (<span style=\"color: #00d7ff; text-decoration-color: #00d7ff\">None</span>, <span style=\"color: #00af00; text-decoration-color: #00af00\">4</span>, <span style=\"color: #00af00; text-decoration-color: #00af00\">4</span>, <span style=\"color: #00af00; text-decoration-color: #00af00\">512</span>)      │        <span style=\"color: #00af00; text-decoration-color: #00af00\">14,336</span> │\n",
       "├─────────────────────────────────┼────────────────────────┼───────────────┤\n",
       "│ conv2d_59 (<span style=\"color: #0087ff; text-decoration-color: #0087ff\">Conv2D</span>)              │ (<span style=\"color: #00d7ff; text-decoration-color: #00d7ff\">None</span>, <span style=\"color: #00af00; text-decoration-color: #00af00\">4</span>, <span style=\"color: #00af00; text-decoration-color: #00af00\">4</span>, <span style=\"color: #00af00; text-decoration-color: #00af00\">512</span>)      │     <span style=\"color: #00af00; text-decoration-color: #00af00\">2,359,808</span> │\n",
       "├─────────────────────────────────┼────────────────────────┼───────────────┤\n",
       "│ conv2d_60 (<span style=\"color: #0087ff; text-decoration-color: #0087ff\">Conv2D</span>)              │ (<span style=\"color: #00d7ff; text-decoration-color: #00d7ff\">None</span>, <span style=\"color: #00af00; text-decoration-color: #00af00\">4</span>, <span style=\"color: #00af00; text-decoration-color: #00af00\">4</span>, <span style=\"color: #00af00; text-decoration-color: #00af00\">512</span>)      │     <span style=\"color: #00af00; text-decoration-color: #00af00\">2,359,808</span> │\n",
       "├─────────────────────────────────┼────────────────────────┼───────────────┤\n",
       "│ flatten_3 (<span style=\"color: #0087ff; text-decoration-color: #0087ff\">Flatten</span>)             │ (<span style=\"color: #00d7ff; text-decoration-color: #00d7ff\">None</span>, <span style=\"color: #00af00; text-decoration-color: #00af00\">8192</span>)           │             <span style=\"color: #00af00; text-decoration-color: #00af00\">0</span> │\n",
       "├─────────────────────────────────┼────────────────────────┼───────────────┤\n",
       "│ dense_24 (<span style=\"color: #0087ff; text-decoration-color: #0087ff\">Dense</span>)                │ (<span style=\"color: #00d7ff; text-decoration-color: #00d7ff\">None</span>, <span style=\"color: #00af00; text-decoration-color: #00af00\">1</span>)              │         <span style=\"color: #00af00; text-decoration-color: #00af00\">8,193</span> │\n",
       "└─────────────────────────────────┴────────────────────────┴───────────────┘\n",
       "</pre>\n"
      ],
      "text/plain": [
       "┏━━━━━━━━━━━━━━━━━━━━━━━━━━━━━━━━━┳━━━━━━━━━━━━━━━━━━━━━━━━┳━━━━━━━━━━━━━━━┓\n",
       "┃\u001b[1m \u001b[0m\u001b[1mLayer (type)                   \u001b[0m\u001b[1m \u001b[0m┃\u001b[1m \u001b[0m\u001b[1mOutput Shape          \u001b[0m\u001b[1m \u001b[0m┃\u001b[1m \u001b[0m\u001b[1m      Param #\u001b[0m\u001b[1m \u001b[0m┃\n",
       "┡━━━━━━━━━━━━━━━━━━━━━━━━━━━━━━━━━╇━━━━━━━━━━━━━━━━━━━━━━━━╇━━━━━━━━━━━━━━━┩\n",
       "│ input_layer_25 (\u001b[38;5;33mInputLayer\u001b[0m)     │ (\u001b[38;5;45mNone\u001b[0m, \u001b[38;5;34m4\u001b[0m, \u001b[38;5;34m4\u001b[0m, \u001b[38;5;34m3\u001b[0m)        │             \u001b[38;5;34m0\u001b[0m │\n",
       "├─────────────────────────────────┼────────────────────────┼───────────────┤\n",
       "│ fromRGB_4x4 (\u001b[38;5;33mConv2D\u001b[0m)            │ (\u001b[38;5;45mNone\u001b[0m, \u001b[38;5;34m4\u001b[0m, \u001b[38;5;34m4\u001b[0m, \u001b[38;5;34m512\u001b[0m)      │        \u001b[38;5;34m14,336\u001b[0m │\n",
       "├─────────────────────────────────┼────────────────────────┼───────────────┤\n",
       "│ conv2d_59 (\u001b[38;5;33mConv2D\u001b[0m)              │ (\u001b[38;5;45mNone\u001b[0m, \u001b[38;5;34m4\u001b[0m, \u001b[38;5;34m4\u001b[0m, \u001b[38;5;34m512\u001b[0m)      │     \u001b[38;5;34m2,359,808\u001b[0m │\n",
       "├─────────────────────────────────┼────────────────────────┼───────────────┤\n",
       "│ conv2d_60 (\u001b[38;5;33mConv2D\u001b[0m)              │ (\u001b[38;5;45mNone\u001b[0m, \u001b[38;5;34m4\u001b[0m, \u001b[38;5;34m4\u001b[0m, \u001b[38;5;34m512\u001b[0m)      │     \u001b[38;5;34m2,359,808\u001b[0m │\n",
       "├─────────────────────────────────┼────────────────────────┼───────────────┤\n",
       "│ flatten_3 (\u001b[38;5;33mFlatten\u001b[0m)             │ (\u001b[38;5;45mNone\u001b[0m, \u001b[38;5;34m8192\u001b[0m)           │             \u001b[38;5;34m0\u001b[0m │\n",
       "├─────────────────────────────────┼────────────────────────┼───────────────┤\n",
       "│ dense_24 (\u001b[38;5;33mDense\u001b[0m)                │ (\u001b[38;5;45mNone\u001b[0m, \u001b[38;5;34m1\u001b[0m)              │         \u001b[38;5;34m8,193\u001b[0m │\n",
       "└─────────────────────────────────┴────────────────────────┴───────────────┘\n"
      ]
     },
     "metadata": {},
     "output_type": "display_data"
    },
    {
     "data": {
      "text/html": [
       "<pre style=\"white-space:pre;overflow-x:auto;line-height:normal;font-family:Menlo,'DejaVu Sans Mono',consolas,'Courier New',monospace\"><span style=\"font-weight: bold\"> Total params: </span><span style=\"color: #00af00; text-decoration-color: #00af00\">4,742,145</span> (18.09 MB)\n",
       "</pre>\n"
      ],
      "text/plain": [
       "\u001b[1m Total params: \u001b[0m\u001b[38;5;34m4,742,145\u001b[0m (18.09 MB)\n"
      ]
     },
     "metadata": {},
     "output_type": "display_data"
    },
    {
     "data": {
      "text/html": [
       "<pre style=\"white-space:pre;overflow-x:auto;line-height:normal;font-family:Menlo,'DejaVu Sans Mono',consolas,'Courier New',monospace\"><span style=\"font-weight: bold\"> Trainable params: </span><span style=\"color: #00af00; text-decoration-color: #00af00\">4,742,145</span> (18.09 MB)\n",
       "</pre>\n"
      ],
      "text/plain": [
       "\u001b[1m Trainable params: \u001b[0m\u001b[38;5;34m4,742,145\u001b[0m (18.09 MB)\n"
      ]
     },
     "metadata": {},
     "output_type": "display_data"
    },
    {
     "data": {
      "text/html": [
       "<pre style=\"white-space:pre;overflow-x:auto;line-height:normal;font-family:Menlo,'DejaVu Sans Mono',consolas,'Courier New',monospace\"><span style=\"font-weight: bold\"> Non-trainable params: </span><span style=\"color: #00af00; text-decoration-color: #00af00\">0</span> (0.00 B)\n",
       "</pre>\n"
      ],
      "text/plain": [
       "\u001b[1m Non-trainable params: \u001b[0m\u001b[38;5;34m0\u001b[0m (0.00 B)\n"
      ]
     },
     "metadata": {},
     "output_type": "display_data"
    }
   ],
   "source": [
    "discriminator = build_discriminator_4x4(filters=512)\n",
    "discriminator.summary()"
   ]
  }
 ],
 "metadata": {
  "kernelspec": {
   "display_name": "venv311",
   "language": "python",
   "name": "python3"
  },
  "language_info": {
   "codemirror_mode": {
    "name": "ipython",
    "version": 3
   },
   "file_extension": ".py",
   "mimetype": "text/x-python",
   "name": "python",
   "nbconvert_exporter": "python",
   "pygments_lexer": "ipython3",
   "version": "3.11.12"
  }
 },
 "nbformat": 4,
 "nbformat_minor": 5
}

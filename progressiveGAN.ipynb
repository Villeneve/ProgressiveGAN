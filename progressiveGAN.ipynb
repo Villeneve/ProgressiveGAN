{
 "cells": [
  {
   "cell_type": "code",
   "execution_count": null,
   "id": "42aa7f52",
   "metadata": {},
   "outputs": [
    {
     "ename": "",
     "evalue": "",
     "output_type": "error",
     "traceback": [
      "\u001b[1;31mThe Kernel crashed while executing code in the current cell or a previous cell. \n",
      "\u001b[1;31mPlease review the code in the cell(s) to identify a possible cause of the failure. \n",
      "\u001b[1;31mClick <a href='https://aka.ms/vscodeJupyterKernelCrash'>here</a> for more info. \n",
      "\u001b[1;31mView Jupyter <a href='command:jupyter.viewOutput'>log</a> for further details."
     ]
    }
   ],
   "source": [
    "import os\n",
    "os.environ[\"CUDA_VISIBLE_DEVICES\"] = \"1\"\n",
    "os.environ[\"KERAS_BACKEND\"] = \"tensorflow\"\n",
    "import keras\n",
    "import keras.layers as lay\n",
    "import tensorflow as tf\n",
    "import matplotlib.pyplot as plt\n",
    "import numpy as np"
   ]
  },
  {
   "cell_type": "code",
   "execution_count": null,
   "id": "f0edaa4b",
   "metadata": {},
   "outputs": [],
   "source": [
    "class fade_in(keras.Layer):\n",
    "    def __init__(self, alpha=0.0, activity_regularizer=None, trainable=True, dtype=None, autocast=True, name=None, **kwargs):\n",
    "        super().__init__(activity_regularizer=activity_regularizer, trainable=trainable, dtype=dtype, autocast=autocast, name=name, **kwargs)\n",
    "        self.alpha = tf.Variable(alpha,trainable=False)\n",
    "\n",
    "    def call(self,inputs):\n",
    "        antigo, novo = inputs\n",
    "        \n",
    "\n",
    "\n",
    "def g_block(x, filters):\n",
    "    x = lay.UpSampling2D((2,2))(x)\n",
    "    x = lay.Conv2D(filters,(3,3),(1,1),'same')(x)\n",
    "    x = lay.LeakyReLU(.2)(x)\n",
    "    return x\n",
    "\n",
    "\n",
    "def build_generator_4x4(latent_dim=128):\n",
    "    inputs = lay.Input((latent_dim))\n",
    "    x = inputs\n",
    "    x = lay.Dense(4*4*512)(x)\n",
    "    x = lay.Reshape((4,4,512))(x)\n",
    "    img_output = lay.Conv2D(3,(1,1),(1,1),'same',activation='sigmoid')(x)\n",
    "    return keras.Model(inputs,img_output)\n"
   ]
  }
 ],
 "metadata": {
  "kernelspec": {
   "display_name": "venv311",
   "language": "python",
   "name": "python3"
  },
  "language_info": {
   "codemirror_mode": {
    "name": "ipython",
    "version": 3
   },
   "file_extension": ".py",
   "mimetype": "text/x-python",
   "name": "python",
   "nbconvert_exporter": "python",
   "pygments_lexer": "ipython3",
   "version": "3.11.13"
  }
 },
 "nbformat": 4,
 "nbformat_minor": 5
}
